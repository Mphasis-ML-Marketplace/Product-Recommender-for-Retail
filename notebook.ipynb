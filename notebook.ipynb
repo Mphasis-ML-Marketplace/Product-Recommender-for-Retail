{
 "cells": [
  {
   "cell_type": "markdown",
   "metadata": {},
   "source": [
    "# Usage Instructions - Mphasis HyperGraf Product Recommender\n",
    "\n",
    "Product Recommender is a solution of HyperGraf that finds similarities between users and items simultaneously to provide recommendations. It analyzes the collected information on users' buying patterns and recommends items to each user based on similarity with other users. Mphasis HyperGraf is an omni-channel customer 360 analytics solution that transforms enterprise decision making by providing the most comprehensive, accurate, real-time and actionable customer engagement insights.\n",
    "\n",
    "### Prerequisite\n",
    "\n",
    "The kernel comes pre-installed with the required packages. Else ensure to have the following Python Packages in your environment at minimum:\n",
    "\n",
    "    - numpy\n",
    "    - pandas\n",
    "    - surprise\n",
    "    - collections\n",
    "\n",
    " ### Contents\n",
    "\n",
    "1. [Input Data](#Input-Data)\n",
    "1. [Create Model](#Create-Model)\n",
    "1. [Batch Transform Job](#Batch-Transform-Job)\n",
    "1. [Output Data](#Output-Data)"
   ]
  },
  {
   "cell_type": "markdown",
   "metadata": {},
   "source": [
    "## Input Data\n",
    "\n",
    "1)\tThe input dataset should be in csv format.\n",
    "\n",
    "2)\tThe column names in input file should be:\n",
    "\n",
    "    a.\tORDERID: Invoice Number.\n",
    "    \n",
    "    b.\tSKUNUMBER: Stock Keeping Unit ID.\n",
    "    \n",
    "    c.\tSKU DESCRIPTION: description of item, a string, name of item along with brand name and color name.\n",
    "    \n",
    "    d.\tCUSTOMERID: It is specific to each customer.\n",
    "    \n",
    "3)\tInvoice number is the systematically assigned sequential code which is unique to each invoice.\n",
    "\n",
    "4)\tMore than one items may have same stock keeping unit id, but no item can have more than one stock keeping unit id.\n",
    "\n",
    "5)\tNo item mentioned in the description can have more than one stock keeping unit (stock code)."
   ]
  },
  {
   "cell_type": "code",
   "execution_count": 1,
   "metadata": {},
   "outputs": [],
   "source": [
    "import pandas as pd"
   ]
  },
  {
   "cell_type": "code",
   "execution_count": 2,
   "metadata": {},
   "outputs": [
    {
     "data": {
      "text/html": [
       "<div>\n",
       "<style scoped>\n",
       "    .dataframe tbody tr th:only-of-type {\n",
       "        vertical-align: middle;\n",
       "    }\n",
       "\n",
       "    .dataframe tbody tr th {\n",
       "        vertical-align: top;\n",
       "    }\n",
       "\n",
       "    .dataframe thead th {\n",
       "        text-align: right;\n",
       "    }\n",
       "</style>\n",
       "<table border=\"1\" class=\"dataframe\">\n",
       "  <thead>\n",
       "    <tr style=\"text-align: right;\">\n",
       "      <th></th>\n",
       "      <th>ORDERID</th>\n",
       "      <th>SKUNUMBER</th>\n",
       "      <th>SKU DESCRIPTION</th>\n",
       "      <th>CUSTOMERID</th>\n",
       "    </tr>\n",
       "  </thead>\n",
       "  <tbody>\n",
       "    <tr>\n",
       "      <th>0</th>\n",
       "      <td>524201</td>\n",
       "      <td>100100</td>\n",
       "      <td>SET OF 6 CFLs</td>\n",
       "      <td>500100</td>\n",
       "    </tr>\n",
       "    <tr>\n",
       "      <th>1</th>\n",
       "      <td>524201</td>\n",
       "      <td>100101</td>\n",
       "      <td>TONED MILK</td>\n",
       "      <td>500100</td>\n",
       "    </tr>\n",
       "    <tr>\n",
       "      <th>2</th>\n",
       "      <td>524201</td>\n",
       "      <td>100102</td>\n",
       "      <td>BUTTER</td>\n",
       "      <td>500100</td>\n",
       "    </tr>\n",
       "    <tr>\n",
       "      <th>3</th>\n",
       "      <td>524203</td>\n",
       "      <td>100103</td>\n",
       "      <td>PENCILS</td>\n",
       "      <td>500108</td>\n",
       "    </tr>\n",
       "    <tr>\n",
       "      <th>4</th>\n",
       "      <td>524202</td>\n",
       "      <td>100104</td>\n",
       "      <td>WRIST WATCH</td>\n",
       "      <td>500104</td>\n",
       "    </tr>\n",
       "  </tbody>\n",
       "</table>\n",
       "</div>"
      ],
      "text/plain": [
       "   ORDERID  SKUNUMBER SKU DESCRIPTION  CUSTOMERID\n",
       "0   524201     100100   SET OF 6 CFLs      500100\n",
       "1   524201     100101     TONED MILK       500100\n",
       "2   524201     100102          BUTTER      500100\n",
       "3   524203     100103         PENCILS      500108\n",
       "4   524202     100104     WRIST WATCH      500104"
      ]
     },
     "execution_count": 2,
     "metadata": {},
     "output_type": "execute_result"
    }
   ],
   "source": [
    "input_df  = pd.read_csv(\"sampleData.csv\")\n",
    "input_df.head()"
   ]
  },
  {
   "cell_type": "markdown",
   "metadata": {},
   "source": [
    "## Create Model"
   ]
  },
  {
   "cell_type": "code",
   "execution_count": 3,
   "metadata": {},
   "outputs": [],
   "source": [
    "import boto3\n",
    "import re"
   ]
  },
  {
   "cell_type": "code",
   "execution_count": 4,
   "metadata": {},
   "outputs": [],
   "source": [
    "model_package_arn = 'arn:aws:sagemaker:us-east-2:786796469737:model-package/marketplace-collaboration--10-17'"
   ]
  },
  {
   "cell_type": "code",
   "execution_count": 5,
   "metadata": {},
   "outputs": [],
   "source": [
    "from sagemaker import ModelPackage\n",
    "import sagemaker as sage\n",
    "from sagemaker import get_execution_role\n",
    "\n",
    "role = get_execution_role()\n",
    "sagemaker_session = sage.Session()"
   ]
  },
  {
   "cell_type": "code",
   "execution_count": 6,
   "metadata": {},
   "outputs": [],
   "source": [
    "model = ModelPackage(model_package_arn=model_package_arn,\n",
    "                    role = role,\n",
    "                    sagemaker_session = sagemaker_session)"
   ]
  },
  {
   "cell_type": "markdown",
   "metadata": {},
   "source": [
    "## Batch Transform Job"
   ]
  },
  {
   "cell_type": "code",
   "execution_count": 7,
   "metadata": {},
   "outputs": [
    {
     "name": "stdout",
     "output_type": "stream",
     "text": [
      "................\u001b[34m * Serving Flask app \"serve\" (lazy loading)\n",
      " * Environment: production\n",
      "   WARNING: This is a development server. Do not use it in a production deployment.\n",
      "   Use a production WSGI server instead.\n",
      " * Debug mode: on\n",
      " * Running on http://0.0.0.0:8080/ (Press CTRL+C to quit)\n",
      " * Restarting with stat\n",
      " * Debugger is active!\n",
      " * Debugger PIN: 252-952-850\u001b[0m\n",
      "\u001b[34m169.254.255.130 - - [30/Jan/2020 04:55:31] \"GET /ping HTTP/1.1\" 200 -\u001b[0m\n",
      "\u001b[34m169.254.255.130 - - [30/Jan/2020 04:55:31] \"GET /execution-parameters HTTP/1.1\" 404 -\u001b[0m\n",
      "\u001b[34mComputing the msd similarity matrix...\u001b[0m\n",
      "\u001b[34mDone computing similarity matrix.\u001b[0m\n",
      "\u001b[34m169.254.255.130 - - [30/Jan/2020 04:55:34] \"POST /invocations HTTP/1.1\" 200 -\u001b[0m\n",
      "\n",
      "\u001b[32m2020-01-30T04:55:31.075:[sagemaker logs]: MaxConcurrentTransforms=1, MaxPayloadInMB=6, BatchStrategy=MULTI_RECORD\u001b[0m\n",
      "Batch Transform complete\n"
     ]
    }
   ],
   "source": [
    "import json \n",
    "import uuid\n",
    "\n",
    "\n",
    "transformer = model.transformer(1, 'ml.m5.large')\n",
    "transformer.transform('s3://mphasis-marketplace/collaborative/sampleData.csv', content_type='text/csv')\n",
    "transformer.wait()\n",
    "#transformer.output_path\n",
    "print(\"Batch Transform complete\")\n",
    "bucketFolder = transformer.output_path.rsplit('/')[3]"
   ]
  },
  {
   "cell_type": "code",
   "execution_count": 8,
   "metadata": {},
   "outputs": [
    {
     "name": "stdout",
     "output_type": "stream",
     "text": [
      "Output file loaded from bucket\n"
     ]
    }
   ],
   "source": [
    "#print(s3bucket,s3prefix)\n",
    "s3_conn = boto3.client(\"s3\")\n",
    "bucket_name=\"sagemaker-us-east-2-786796469737\"\n",
    "with open('FILE_NAME', 'wb') as f:\n",
    "    s3_conn.download_fileobj(bucket_name, bucketFolder+'/sampleData.csv.out', f)\n",
    "    print(\"Output file loaded from bucket\")"
   ]
  },
  {
   "cell_type": "markdown",
   "metadata": {},
   "source": [
    "## Output Data\n",
    "\n",
    "The output file (in csv format) contains the following columns:\n",
    "\n",
    "a.\tCUSTOMERID: It is the specific id of the customer for whom recommendations are mentioned in the adjacent column\n",
    "\n",
    "b.\tRecommendation: Top 10 product recommendations\n",
    "\n",
    "Generated matrix contains the top 10 product recommendations for each user."
   ]
  },
  {
   "cell_type": "code",
   "execution_count": 9,
   "metadata": {},
   "outputs": [
    {
     "name": "stdout",
     "output_type": "stream",
     "text": [
      "Output: \n"
     ]
    },
    {
     "data": {
      "text/html": [
       "<div>\n",
       "<style scoped>\n",
       "    .dataframe tbody tr th:only-of-type {\n",
       "        vertical-align: middle;\n",
       "    }\n",
       "\n",
       "    .dataframe tbody tr th {\n",
       "        vertical-align: top;\n",
       "    }\n",
       "\n",
       "    .dataframe thead th {\n",
       "        text-align: right;\n",
       "    }\n",
       "</style>\n",
       "<table border=\"1\" class=\"dataframe\">\n",
       "  <thead>\n",
       "    <tr style=\"text-align: right;\">\n",
       "      <th></th>\n",
       "      <th>CUSTOMERID</th>\n",
       "      <th>Recommendation</th>\n",
       "    </tr>\n",
       "  </thead>\n",
       "  <tbody>\n",
       "    <tr>\n",
       "      <th>0</th>\n",
       "      <td>12426</td>\n",
       "      <td>BIRDS MOBILE VINTAGE DESIGN, COFFEE MUG CAT + ...</td>\n",
       "    </tr>\n",
       "    <tr>\n",
       "      <th>1</th>\n",
       "      <td>12427</td>\n",
       "      <td>ROUND CONTAINER SET OF 5 RETROSPOT, ROUND SNAC...</td>\n",
       "    </tr>\n",
       "    <tr>\n",
       "      <th>2</th>\n",
       "      <td>12468</td>\n",
       "      <td>GLASS JAR ENGLISH CONFECTIONERY, ILLUSTRATED C...</td>\n",
       "    </tr>\n",
       "    <tr>\n",
       "      <th>3</th>\n",
       "      <td>12471</td>\n",
       "      <td>ILLUSTRATED CAT BOWL , ROUND CONTAINER SET OF ...</td>\n",
       "    </tr>\n",
       "    <tr>\n",
       "      <th>4</th>\n",
       "      <td>12472</td>\n",
       "      <td>GLASS JAR MARMALADE , GLASS JAR ENGLISH CONFEC...</td>\n",
       "    </tr>\n",
       "  </tbody>\n",
       "</table>\n",
       "</div>"
      ],
      "text/plain": [
       "   CUSTOMERID                                     Recommendation\n",
       "0       12426  BIRDS MOBILE VINTAGE DESIGN, COFFEE MUG CAT + ...\n",
       "1       12427  ROUND CONTAINER SET OF 5 RETROSPOT, ROUND SNAC...\n",
       "2       12468  GLASS JAR ENGLISH CONFECTIONERY, ILLUSTRATED C...\n",
       "3       12471  ILLUSTRATED CAT BOWL , ROUND CONTAINER SET OF ...\n",
       "4       12472  GLASS JAR MARMALADE , GLASS JAR ENGLISH CONFEC..."
      ]
     },
     "execution_count": 9,
     "metadata": {},
     "output_type": "execute_result"
    }
   ],
   "source": [
    "output_df  = pd.read_csv(\"FILE_NAME\")\n",
    "output_df  = output_df.drop('Unnamed: 0',1)\n",
    "out_final = output_df\n",
    "print(\"Output: \")\n",
    "out_final.head()"
   ]
  },
  {
   "cell_type": "code",
   "execution_count": null,
   "metadata": {},
   "outputs": [],
   "source": []
  },
  {
   "cell_type": "code",
   "execution_count": null,
   "metadata": {},
   "outputs": [],
   "source": []
  }
 ],
 "metadata": {
  "kernelspec": {
   "display_name": "conda_amazonei_mxnet_p27",
   "language": "python",
   "name": "conda_amazonei_mxnet_p27"
  },
  "language_info": {
   "codemirror_mode": {
    "name": "ipython",
    "version": 2
   },
   "file_extension": ".py",
   "mimetype": "text/x-python",
   "name": "python",
   "nbconvert_exporter": "python",
   "pygments_lexer": "ipython2",
   "version": "2.7.15"
  }
 },
 "nbformat": 4,
 "nbformat_minor": 2
}
